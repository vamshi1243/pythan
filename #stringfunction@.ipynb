{
 "cells": [
  {
   "cell_type": "code",
   "execution_count": 4,
   "metadata": {},
   "outputs": [
    {
     "name": "stdout",
     "output_type": "stream",
     "text": [
      "False\n",
      "True\n",
      "True\n",
      "True\n",
      "True\n",
      "False\n"
     ]
    }
   ],
   "source": [
    "s=\"python is easy Programming to learn and codeing \"\n",
    "s1=\"python\"\n",
    "s2=\"VAMSHI\"\n",
    "s3=\"vamshi\"\n",
    "s4=\"Application\"\n",
    "s5=\"App1889\"\n",
    "print(s.isupper())\n",
    "print(s1.islower())\n",
    "print(s2.isupper())\n",
    "print(s3.islower())\n",
    "print(s4.isalpha())\n",
    "print(s5.isalpha())"
   ]
  },
  {
   "cell_type": "code",
   "execution_count": 12,
   "metadata": {},
   "outputs": [
    {
     "name": "stdout",
     "output_type": "stream",
     "text": [
      "False\n",
      "True\n"
     ]
    }
   ],
   "source": [
    "s= \"PYTHON PROGRAMMING\"\n",
    "S1=\"Python Programming\"\n",
    "print(s.istitle())\n",
    "print(S1.istitle())"
   ]
  },
  {
   "cell_type": "code",
   "execution_count": 14,
   "metadata": {},
   "outputs": [
    {
     "name": "stdout",
     "output_type": "stream",
     "text": [
      "p codeing y codeing t codeing h codeing o codeing n\n"
     ]
    }
   ],
   "source": [
    "str=\"python\"\n",
    "print(\" codeing \".join(str))"
   ]
  },
  {
   "cell_type": "code",
   "execution_count": 17,
   "metadata": {},
   "outputs": [
    {
     "name": "stdout",
     "output_type": "stream",
     "text": [
      "p ,y ,t ,h ,o ,n\n"
     ]
    }
   ],
   "source": [
    "s=\"python\"\n",
    "print(\" ,\".join(str))\n"
   ]
  },
  {
   "cell_type": "code",
   "execution_count": 19,
   "metadata": {},
   "outputs": [
    {
     "name": "stdout",
     "output_type": "stream",
     "text": [
      "['python', 'programming', 'is', 'easy', 'to', 'learn']\n",
      "['python progr', 'mming is  e', 'sy to le', 'rn']\n"
     ]
    }
   ],
   "source": [
    "s=\"python programming is  easy to learn\"\n",
    "print(s.split())\n",
    "print(s.split(\"a\"))"
   ]
  },
  {
   "cell_type": "code",
   "execution_count": 29,
   "metadata": {},
   "outputs": [
    {
     "name": "stdout",
     "output_type": "stream",
     "text": [
      "['python', 'is', 'easy']\n",
      "1\n"
     ]
    }
   ],
   "source": [
    "s=\"python is easy\"\n",
    "lst=s.split()\n",
    "print(lst)\n",
    "print(lst.index(\"is\"))\n"
   ]
  },
  {
   "cell_type": "code",
   "execution_count": 30,
   "metadata": {},
   "outputs": [
    {
     "name": "stdout",
     "output_type": "stream",
     "text": [
      "vamshi\n"
     ]
    }
   ],
   "source": [
    "s=\"vanshi\"\n",
    "print(s.replace(\"n\",\"m\"))"
   ]
  },
  {
   "cell_type": "code",
   "execution_count": 32,
   "metadata": {},
   "outputs": [
    {
     "name": "stdout",
     "output_type": "stream",
     "text": [
      "('python', 'programming', 1990, 2005, 'Machine language', 'AI')\n",
      "(1, 2, 3, 4, 5)\n"
     ]
    }
   ],
   "source": [
    "s=(\"python\",\"programming\",1990,2005,\"Machine language\",\"AI\")\n",
    "s2=(1,2,3,4,5)\n",
    "print(s)\n",
    "print(s2)"
   ]
  },
  {
   "cell_type": "code",
   "execution_count": 41,
   "metadata": {},
   "outputs": [
    {
     "name": "stdout",
     "output_type": "stream",
     "text": [
      "('python', 'programming', '1990', '2005', 'ML', 'AI')\n"
     ]
    }
   ],
   "source": [
    "s=(\"python\",\"programming\")\n",
    "s2=(\"1990\",\"2005\",\"ML\",\"AI\")\n",
    "c=s+s2    \n",
    "print(c)"
   ]
  },
  {
   "cell_type": "code",
   "execution_count": 42,
   "metadata": {},
   "outputs": [
    {
     "name": "stdout",
     "output_type": "stream",
     "text": [
      "6\n"
     ]
    }
   ],
   "source": [
    "s=(\"python\",\"programming\",1990,2005,\"Machine language\",\"AI\")\n",
    "print(len(s))"
   ]
  },
  {
   "cell_type": "code",
   "execution_count": 45,
   "metadata": {
    "scrolled": true
   },
   "outputs": [
    {
     "ename": "TypeError",
     "evalue": "'<' not supported between instances of 'str' and 'tuple'",
     "output_type": "error",
     "traceback": [
      "\u001b[0;31m---------------------------------------------------------------------------\u001b[0m",
      "\u001b[0;31mTypeError\u001b[0m                                 Traceback (most recent call last)",
      "\u001b[0;32m<ipython-input-45-fcd3444e5379>\u001b[0m in \u001b[0;36m<module>\u001b[0;34m\u001b[0m\n\u001b[1;32m      1\u001b[0m \u001b[0ms\u001b[0m\u001b[0;34m=\u001b[0m\u001b[0;34m(\u001b[0m\u001b[0;36m1\u001b[0m\u001b[0;34m,\u001b[0m\u001b[0;36m2\u001b[0m\u001b[0;34m,\u001b[0m\u001b[0;36m3\u001b[0m\u001b[0;34m,\u001b[0m\u001b[0;36m4\u001b[0m\u001b[0;34m,\u001b[0m\u001b[0;36m5\u001b[0m\u001b[0;34m,\u001b[0m\u001b[0;36m6\u001b[0m\u001b[0;34m)\u001b[0m\u001b[0;34m\u001b[0m\u001b[0;34m\u001b[0m\u001b[0m\n\u001b[1;32m      2\u001b[0m \u001b[0ms2\u001b[0m\u001b[0;34m=\u001b[0m\u001b[0;34m(\u001b[0m\u001b[0;36m2\u001b[0m\u001b[0;34m,\u001b[0m\u001b[0;36m3\u001b[0m\u001b[0;34m,\u001b[0m\u001b[0;36m5\u001b[0m\u001b[0;34m,\u001b[0m\u001b[0;36m4\u001b[0m\u001b[0;34m,\u001b[0m\u001b[0;36m6\u001b[0m\u001b[0;34m,\u001b[0m\u001b[0;36m7\u001b[0m\u001b[0;34m)\u001b[0m\u001b[0;34m\u001b[0m\u001b[0;34m\u001b[0m\u001b[0m\n\u001b[0;32m----> 3\u001b[0;31m \u001b[0ma\u001b[0m\u001b[0;34m=\u001b[0m\u001b[0mmin\u001b[0m\u001b[0;34m(\u001b[0m\u001b[0ms\u001b[0m\u001b[0;34m,\u001b[0m\u001b[0ms1\u001b[0m\u001b[0;34m)\u001b[0m\u001b[0;34m\u001b[0m\u001b[0;34m\u001b[0m\u001b[0m\n\u001b[0m\u001b[1;32m      4\u001b[0m \u001b[0mprint\u001b[0m\u001b[0;34m(\u001b[0m\u001b[0ma\u001b[0m\u001b[0;34m)\u001b[0m\u001b[0;34m\u001b[0m\u001b[0;34m\u001b[0m\u001b[0m\n",
      "\u001b[0;31mTypeError\u001b[0m: '<' not supported between instances of 'str' and 'tuple'"
     ]
    }
   ],
   "source": [
    "s=(1,2,3,4,5,6)\n",
    "s2=(2,3,5,4,6,7)\n",
    "a=m(s,s1)\n",
    "print(a)"
   ]
  },
  {
   "cell_type": "code",
   "execution_count": 46,
   "metadata": {},
   "outputs": [
    {
     "name": "stdout",
     "output_type": "stream",
     "text": [
      "('python', 'programming', 1990, 2005, 'Machine language', 'AI')\n",
      "('python', 'programming', 1990, 2005, 'Machine language', 'AI')\n"
     ]
    }
   ],
   "source": [
    "s=(\"python\",\"programming\",1990,2005,\"Machine language\",\"AI\") \n",
    "print(s)\n",
    "tuple1=tuple(s)\n",
    "print(tuple1)\n"
   ]
  },
  {
   "cell_type": "code",
   "execution_count": 53,
   "metadata": {},
   "outputs": [
    {
     "name": "stdout",
     "output_type": "stream",
     "text": [
      "vamshi123@gmail.com\n",
      "vamshi123@gmail.com\n",
      "Hyderabad\n",
      "19\n",
      "vamshi\n"
     ]
    }
   ],
   "source": [
    "user1={\"name\":\"vamshi\",\"age\":19,\"EmailID\":\"vamshi123@gmail.com\",\"Mobilenumber\":9542423142}\n",
    "print(user1[\"EmailID\"])\n",
    "user1[\"EmailID\"]=\"vamshi123@gmail.com\"\n",
    "print(user1[\"EmailID\"])\n",
    "user1[\"Address\"]=\"Hyderabad\"\n",
    "print(user1[\"Address\"])\n",
    "user1[\"age\"]=19\n",
    "print(user1['age'])\n",
    "user1[\"name\"]= \"vamshi\"\n",
    "print(user1[\"name\"])"
   ]
  },
  {
   "cell_type": "code",
   "execution_count": 55,
   "metadata": {},
   "outputs": [
    {
     "name": "stdout",
     "output_type": "stream",
     "text": [
      "4\n"
     ]
    }
   ],
   "source": [
    "user1={\"name\":\"vamshi\",\"age\":19,\"EmailID\":\"vamshi123@gmail.com\",\"Mobilenumber\":9542423142}\n",
    "print(len(user1))"
   ]
  },
  {
   "cell_type": "code",
   "execution_count": 3,
   "metadata": {},
   "outputs": [
    {
     "name": "stdout",
     "output_type": "stream",
     "text": [
      "6\n"
     ]
    }
   ],
   "source": [
    "user1={\"name\":\"vamshi\",\"age\":19,\"EmailID\":\"vamshi123@gmail.com\",\"Mobilenumber\":9542423142}\n",
    "print(len(\"vamshi\"))\n"
   ]
  },
  {
   "cell_type": "code",
   "execution_count": 2,
   "metadata": {},
   "outputs": [
    {
     "name": "stdout",
     "output_type": "stream",
     "text": [
      "{'name': 'vamshi', 'age': 19, 'EmailID': 'vamshi123@gmail.com', 'Mobilenumber': 9542423142}\n"
     ]
    }
   ],
   "source": [
    "user1={\"name\":\"vamshi\",\"age\":19,\"EmailID\":\"vamshi123@gmail.com\",\"Mobilenumber\":9542423142}\n",
    "user2=user1.copy()\n",
    "print(user2)\n",
    "    "
   ]
  },
  {
   "cell_type": "code",
   "execution_count": 66,
   "metadata": {},
   "outputs": [
    {
     "name": "stdout",
     "output_type": "stream",
     "text": [
      "dict_items([('name', 'vamshi'), ('age', 19), ('EmailID', 'vamshi123@gmail.com'), ('Mobilenumber', 9542423142)])\n"
     ]
    }
   ],
   "source": [
    "user1={\"name\":\"vamshi\",\"age\":19,\"EmailID\":\"vamshi123@gmail.com\",\"Mobilenumber\":9542423142}\n",
    "print(user1.items())"
   ]
  },
  {
   "cell_type": "code",
   "execution_count": 68,
   "metadata": {},
   "outputs": [
    {
     "name": "stdout",
     "output_type": "stream",
     "text": [
      "dict_values(['vamshi', 19, 'vamshi123@gmail.com', 9542423142])\n"
     ]
    }
   ],
   "source": [
    "user1={\"name\":\"vamshi\",\"age\":19,\"EmailID\":\"vamshi123@gmail.com\",\"Mobilenumber\":9542423142}\n",
    "print(user1.values())"
   ]
  },
  {
   "cell_type": "code",
   "execution_count": 76,
   "metadata": {},
   "outputs": [
    {
     "name": "stdout",
     "output_type": "stream",
     "text": [
      "python Programming\n"
     ]
    }
   ],
   "source": [
    "s=['python','Programming']\n",
    "print(\"{0} {1}\".format(s[0],s[1]))"
   ]
  },
  {
   "cell_type": "markdown",
   "metadata": {},
   "source": [
    "# contacts creating and deleting"
   ]
  },
  {
   "cell_type": "code",
   "execution_count": 4,
   "metadata": {},
   "outputs": [
    {
     "name": "stdout",
     "output_type": "stream",
     "text": [
      "contact vamshi added\n",
      "contact vishnu added\n",
      "contact shrama added\n"
     ]
    }
   ],
   "source": [
    "contacts={}\n",
    "def addcontact(name,phone):\n",
    "    if name not in contacts:\n",
    "        contacts[name]=phone\n",
    "        print(\"contact %s added\"%name)\n",
    "    else:\n",
    "        print(\"contact %s already exists\"% n)                     \n",
    "    return\n",
    "addcontact(\"vamshi\",9542954231)\n",
    "addcontact(\"vishnu\",9654821737)\n",
    "addcontact(\"shrama\",6848911787)"
   ]
  },
  {
   "cell_type": "code",
   "execution_count": 11,
   "metadata": {},
   "outputs": [
    {
     "name": "stdout",
     "output_type": "stream",
     "text": [
      "vamshi  :  9542954231\n",
      "chandu is does not exits\n",
      "vishnu  :  9654821737\n",
      "shiva is does not exits\n"
     ]
    }
   ],
   "source": [
    "def searchContact(name):\n",
    "    if name in contacts:\n",
    "        print(name,\" : \",contacts[name])\n",
    "    else:\n",
    "        print(\"%s is does not exits\"%name)\n",
    "    return\n",
    "searchContact(\"vamshi\")\n",
    "searchContact(\"chandu\")\n",
    "searchContact(\"vishnu\")\n",
    "searchContact(\"shiva\")"
   ]
  },
  {
   "cell_type": "code",
   "execution_count": 20,
   "metadata": {},
   "outputs": [
    {
     "name": "stdout",
     "output_type": "stream",
     "text": [
      "2 contacts added succesfully\n",
      "now contacts In your phone\n",
      "{'vamshi': 9542954231, 'vishnu': 9654821737, 'shrama': 6848911787, 'chandu': 9562956244, 'balu': 7777788888}\n"
     ]
    }
   ],
   "source": [
    "def importcontacts(newContacts):\n",
    "    contacts.update(newContacts)\n",
    "    print(len(newContacts.keys()),\"contacts added succesfully\")\n",
    "    return\n",
    "\n",
    "newContacts = {\"chandu\":9562956244,\"balu\":7777788888}\n",
    "importcontacts(newContacts)\n",
    "print(\"now contacts In your phone\")\n",
    "print(contacts)"
   ]
  },
  {
   "cell_type": "code",
   "execution_count": 24,
   "metadata": {},
   "outputs": [
    {
     "name": "stdout",
     "output_type": "stream",
     "text": [
      "vishnu : is not exits in the contacts\n",
      "shiva : is not exits in the contacts\n",
      "now contacts In your phone\n",
      "{'vamshi': 9542954231, 'shrama': 6848911787, 'chandu': 9562956244, 'balu': 7777788888}\n"
     ]
    }
   ],
   "source": [
    "def deletecontact(name):\n",
    "    if name in contacts:\n",
    "        del contacts[name]\n",
    "        print(name,\": is deleted from the contacts\")\n",
    "    else:\n",
    "        print(name,\": is not exits in the contacts\")\n",
    "    return\n",
    "deletecontact(\"vishnu\")\n",
    "deletecontact(\"shiva\")\n",
    "print(\"now contacts In your phone\")\n",
    "print(contacts)"
   ]
  },
  {
   "cell_type": "code",
   "execution_count": 27,
   "metadata": {},
   "outputs": [
    {
     "name": "stdout",
     "output_type": "stream",
     "text": [
      "vishnu : not exists in the contacts\n",
      "chandu :update with a new number\n",
      "now contacts In your phone\n",
      "{'vamshi': 9542954231, 'shrama': 6848911787, 'chandu': 9944488899, 'balu': 7777788888}\n"
     ]
    }
   ],
   "source": [
    "def updatecontact(name,number):\n",
    "    if name in contacts:\n",
    "        contacts[name]= number\n",
    "        print(name,\":update with a new number\")\n",
    "    else:\n",
    "        print(name,\": not exists in the contacts\")\n",
    "    return\n",
    "\n",
    "updatecontact(\"vishnu\",9848911748)\n",
    "updatecontact(\"chandu\",9944488899)\n",
    "print(\"now contacts In your phone\")\n",
    "print(contacts)\n"
   ]
  },
  {
   "cell_type": "code",
   "execution_count": 28,
   "metadata": {},
   "outputs": [
    {
     "name": "stdout",
     "output_type": "stream",
     "text": [
      "1 2 3 4\n"
     ]
    }
   ],
   "source": [
    "lst=[1,2,3,4]\n",
    "print(\"%d %d %d %d\"%(lst[0],lst[1],lst[2],lst[3]))\n"
   ]
  },
  {
   "cell_type": "code",
   "execution_count": 32,
   "metadata": {},
   "outputs": [
    {
     "name": "stdout",
     "output_type": "stream",
     "text": [
      "value at :1 value at :2\n"
     ]
    }
   ],
   "source": [
    "lst=[1,2,3,4]\n",
    "print(\"value at :{0} value at :{1}\".format(lst[0],lst[1],lst[2],lst[3]))\n"
   ]
  },
  {
   "cell_type": "code",
   "execution_count": 37,
   "metadata": {
    "scrolled": false
   },
   "outputs": [
    {
     "data": {
      "text/plain": [
       "345"
      ]
     },
     "execution_count": 37,
     "metadata": {},
     "output_type": "execute_result"
    }
   ],
   "source": [
    "from math import floor as f1\n",
    "f1(345.678)"
   ]
  },
  {
   "cell_type": "code",
   "execution_count": 43,
   "metadata": {
    "scrolled": true
   },
   "outputs": [
    {
     "data": {
      "text/plain": [
       "-0.4480736161291701"
      ]
     },
     "execution_count": 43,
     "metadata": {},
     "output_type": "execute_result"
    }
   ],
   "source": [
    "import math\n",
    "math.cos(90)"
   ]
  },
  {
   "cell_type": "code",
   "execution_count": 54,
   "metadata": {},
   "outputs": [
    {
     "name": "stdout",
     "output_type": "stream",
     "text": [
      "115   73   93   37   57   76   70   120   42   30   "
     ]
    }
   ],
   "source": [
    "import random\n",
    "def generateRandom(n,lb,ub):\n",
    "    for i in range(0,n):\n",
    "        print(random.randint(lb,ub),end=\"   \")\n",
    "    return\n",
    "generateRandom(10,12,120)\n"
   ]
  },
  {
   "cell_type": "code",
   "execution_count": null,
   "metadata": {},
   "outputs": [],
   "source": [
    "Returns"
   ]
  },
  {
   "cell_type": "code",
   "execution_count": null,
   "metadata": {},
   "outputs": [],
   "source": []
  }
 ],
 "metadata": {
  "kernelspec": {
   "display_name": "Python 3",
   "language": "python",
   "name": "python3"
  },
  "language_info": {
   "codemirror_mode": {
    "name": "ipython",
    "version": 3
   },
   "file_extension": ".py",
   "mimetype": "text/x-python",
   "name": "python",
   "nbconvert_exporter": "python",
   "pygments_lexer": "ipython3",
   "version": "3.7.3"
  }
 },
 "nbformat": 4,
 "nbformat_minor": 2
}
