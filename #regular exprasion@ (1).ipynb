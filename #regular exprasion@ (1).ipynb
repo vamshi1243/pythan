{
 "cells": [
  {
   "cell_type": "code",
   "execution_count": 1,
   "metadata": {},
   "outputs": [
    {
     "name": "stdout",
     "output_type": "stream",
     "text": [
      "True\n",
      "False\n"
     ]
    }
   ],
   "source": [
    "import re \n",
    "def phonenumbervalidate(phone):\n",
    "    pattren = \"^[6-9][0-9]{9}$\"\n",
    "    phone = str(phone)\n",
    "    if re.match(pattren,phone):\n",
    "        return True\n",
    "    return False\n",
    "print(phonenumbervalidate(9948911744))\n",
    "print(phonenumbervalidate(99888888))\n",
    "    "
   ]
  },
  {
   "cell_type": "code",
   "execution_count": 2,
   "metadata": {},
   "outputs": [
    {
     "name": "stdout",
     "output_type": "stream",
     "text": [
      "False\n",
      "False\n"
     ]
    }
   ],
   "source": [
    "import re \n",
    "def phonenumbervalidate(phone):\n",
    "    pattren = \"^[0][6-9]{9}$\"\n",
    "    phone = str(phone)\n",
    "    if re.match(pattren,phone):\n",
    "        return True\n",
    "    return False\n",
    "print(phonenumbervalidate(9948911744))\n",
    "print(phonenumbervalidate(99888888))\n",
    "    "
   ]
  },
  {
   "cell_type": "code",
   "execution_count": 4,
   "metadata": {},
   "outputs": [
    {
     "name": "stdout",
     "output_type": "stream",
     "text": [
      "True\n",
      "False\n",
      "False\n"
     ]
    }
   ],
   "source": [
    "import re \n",
    "def phonenumbervalidate(phone):\n",
    "    pattren = '^[+][9][1][6-9][0-9]{9}$|[0][6-9]{9}$|^[6-9][0-9]{9}$'\n",
    "    phone = str(phone)\n",
    "    if re.match(pattren,phone):\n",
    "        return True\n",
    "    return False\n",
    "print(phonenumbervalidate(9948911744))\n",
    "print(phonenumbervalidate(99888888))\n",
    "print(phonenumbervalidate(+919898989895))\n",
    "    "
   ]
  },
  {
   "cell_type": "code",
   "execution_count": 5,
   "metadata": {},
   "outputs": [
    {
     "name": "stdout",
     "output_type": "stream",
     "text": [
      "False\n",
      "False\n"
     ]
    }
   ],
   "source": [
    "import re \n",
    "def validaterollnumber(number):\n",
    "    pattren = \"^[i][1][2][u][3][4][5]{9}$\"\n",
    "    number = str(number)\n",
    "    if re.match(pattren,number):\n",
    "        return True\n",
    "    return False\n",
    "print(validaterollnumber(\"i12u3459\"))\n",
    "print(validaterollnumber(9999888888))\n"
   ]
  },
  {
   "cell_type": "code",
   "execution_count": 7,
   "metadata": {},
   "outputs": [
    {
     "name": "stdout",
     "output_type": "stream",
     "text": [
      "False\n",
      "True\n"
     ]
    }
   ],
   "source": [
    "import re \n",
    "def validateemail(email):\n",
    "    pattren = \"^[0-9a-z][0-9a-z_.]{4,13}[0-9a-z][@][a-z0-9]{3,18}[.][a-z]{2,6}$\"\n",
    "    if re.match(pattren,email):\n",
    "        return True\n",
    "    return False\n",
    "print(validateemail(\"naikoti.vamshi123@gmail.com\"))\n",
    "print(validateemail(\"manishi123@gmail.com\"))"
   ]
  },
  {
   "cell_type": "code",
   "execution_count": 12,
   "metadata": {},
   "outputs": [
    {
     "name": "stdout",
     "output_type": "stream",
     "text": [
      "False\n",
      "False\n"
     ]
    }
   ],
   "source": [
    "import re \n",
    "def validatepassword(password):\n",
    "    pattren = \"^[0-9][0-9][0-9][0-9][a-z][a-z][A-Z]{2,5}$\"\n",
    "    if re.match(pattren,password):\n",
    "        return True\n",
    "    return False\n",
    "print(validatepassword(\"1234abC\"))\n",
    "print(validatepassword(\"123456789\"))\n"
   ]
  },
  {
   "cell_type": "code",
   "execution_count": 36,
   "metadata": {},
   "outputs": [
    {
     "ename": "SyntaxError",
     "evalue": "EOL while scanning string literal (<ipython-input-36-47f719b287e0>, line 9)",
     "output_type": "error",
     "traceback": [
      "\u001b[0;36m  File \u001b[0;32m\"<ipython-input-36-47f719b287e0>\"\u001b[0;36m, line \u001b[0;32m9\u001b[0m\n\u001b[0;31m    print((\"The number of lowercase characters is)\u001b[0m\n\u001b[0m                                                  ^\u001b[0m\n\u001b[0;31mSyntaxError\u001b[0m\u001b[0;31m:\u001b[0m EOL while scanning string literal\n"
     ]
    }
   ],
   "source": [
    "str=inputis(\"Enter string:\")\n",
    "count1=0\n",
    "count2=0\n",
    "for i in str:\n",
    "        if(i.islower()):\n",
    "            count1=count1+1\n",
    "        elif(i.isupper()):\n",
    "            count2=count2+1\n",
    "print((\"The number of lowercase characters is)\n",
    "print (count1)\n",
    "print(\"The number of uppercase characters is)\n",
    "print(count2)"
   ]
  },
  {
   "cell_type": "code",
   "execution_count": 34,
   "metadata": {},
   "outputs": [
    {
     "name": "stdout",
     "output_type": "stream",
     "text": [
      "The number of lowercase characters is\n",
      "8\n"
     ]
    }
   ],
   "source": [
    "str=(\"EntEr String\")\n",
    "count=0\n",
    "for i in str:\n",
    "      if(i.islower()):\n",
    "            count=count+1\n",
    "print(\"The number of lowercase characters is\")\n",
    "print(count)"
   ]
  },
  {
   "cell_type": "code",
   "execution_count": null,
   "metadata": {},
   "outputs": [],
   "source": []
  }
 ],
 "metadata": {
  "kernelspec": {
   "display_name": "Python 3",
   "language": "python",
   "name": "python3"
  },
  "language_info": {
   "codemirror_mode": {
    "name": "ipython",
    "version": 3
   },
   "file_extension": ".py",
   "mimetype": "text/x-python",
   "name": "python",
   "nbconvert_exporter": "python",
   "pygments_lexer": "ipython3",
   "version": "3.7.3"
  }
 },
 "nbformat": 4,
 "nbformat_minor": 2
}
